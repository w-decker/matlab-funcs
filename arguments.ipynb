{
 "cells": [
  {
   "cell_type": "markdown",
   "id": "191960f2-3eef-43bf-8a2a-53bb7be18b90",
   "metadata": {},
   "source": [
    "# Arguments\n",
    "\n",
    "Here we will take a look at `arguments end` which is a method for input argument validation."
   ]
  },
  {
   "cell_type": "markdown",
   "id": "ff3a3e42-5654-4181-b248-afab90053bca",
   "metadata": {},
   "source": [
    "### A look back at the structure of a function.\n",
    "\n",
    "As mentioned in the first section of this lesson, the function is made up of outputs and inputs. The values you pass as arguments are called _inputs_. Let's look at this with the `mySum()` example. \n",
    "\n",
    "```\n",
    "function ans = mySum(a, b)\n",
    "\n",
    "ans = a + b\n",
    "sprintf('%g + %g = %g', a, b, ans)\n",
    "\n",
    "end\n",
    "```\n",
    "\n",
    "Here the arguments are `a` and `b`. If I call the function `mySum(3, 4)` the inputs are $3$ and $4$."
   ]
  },
  {
   "cell_type": "markdown",
   "id": "96408424-a523-45dc-a648-ebed4d73c00e",
   "metadata": {},
   "source": [
    "### What happens when you have more complicated functions?\n",
    "\n",
    "A lot of times, custom functions are meant to carry out complex code and require that the correct inputs are given. It is common to see \"error checks\" which ensure that your function inputs can be handeled by the function and, if not, return an error. Let's take a closer look at what I mean by this. "
   ]
  },
  {
   "cell_type": "markdown",
   "id": "f6fc0123-b813-4ed7-8ce5-b501ba15e9cc",
   "metadata": {},
   "source": [
    "### `funWithSVD()`"
   ]
  },
  {
   "cell_type": "markdown",
   "id": "311603d0-2819-49a1-bf3a-e9f61171088a",
   "metadata": {},
   "source": [
    "In the new function `funWithSVD()` we require a few things. First we require an image, and then we require a number of components. There are optional inputs we can give as well, but I will go over those later. In this function, we are making use of a computation called **s**ingle **v**alue **d**ecomposition, which you don't need to know a lot about. Just know that it identifies the spatial patterns in a matrix and which features are more or less important to those spatial patterns. You also don't need to know necessarily what is going on in the function itself. This is just a demonstration of input argument handeling.\n",
    "\n",
    "Before we look at the components of the function let's just see what it looks like when we call it."
   ]
  },
  {
   "cell_type": "code",
   "execution_count": 1,
   "id": "219ab7fa-4d1f-43ee-b07d-bc5dbc353c90",
   "metadata": {
    "tags": []
   },
   "outputs": [],
   "source": [
    "funWithSVD('/path/to/image/', 1:5)\n",
    "\n",
    "% with additional optional args\n",
    "funWithSVD('/path/to/image/', 1:5, 'newPic', 'no', 'originalPic', 'yes')"
   ]
  },
  {
   "cell_type": "markdown",
   "id": "67383f97-67a8-40ad-9c11-04620cfac08f",
   "metadata": {},
   "source": [
    "You can see that there are a few ways to call the function and multiple different inputs. To navigate these inputs, the easiset option would be to create an `if/elseif` block that checks the class and dimensions of the inputs. Let's see what this might look like."
   ]
  },
  {
   "cell_type": "code",
   "execution_count": null,
   "id": "3ca59f7c-b60f-42b5-93e4-a5f8cb5254f8",
   "metadata": {},
   "outputs": [],
   "source": [
    "function funWithSVD(pic, features, varargin)\n",
    "% FUNWITHSVD demonstrating how different features change image\n",
    "% pic -- image you wish to analyze\n",
    "% features -- (double) number of features to include in analyzed image (e.g., 1:4)\n",
    "\n",
    "% Optional\n",
    "    % 'originalPic' -- ('yes' | 'no') display original picture after SVD. Default 'no'.\n",
    "    % 'newPic' -- ('yes' | 'no') Display new pic. Default 'yes'.\n",
    "    \n",
    "    % check inputs\n",
    "    if ~ischar(pic) || ~isstring(pic) % checks if pic arg is a char or string\n",
    "        error('pic must be string')\n",
    "    elseif isempty(pic) % checks if you forgot to provide pic\n",
    "    end\n",
    "        error('must provide a pic input')\n",
    "    end\n",
    "    \n",
    "    if ~isnumeric(features) % checks if features are numeric\n",
    "        error('Must be numeric')\n",
    "    elseif isempty(features)\n",
    "        error('Must provide features') % checks if you forgot to provide feautres\n",
    "    end\n",
    "    \n",
    "    for i = 1:length(varargin)\n",
    "        if ~ischar(varargin{i + 1}) || ~isstring(varargin{i + 1}) % checks if optional arg is a char or string\n",
    "            error('%s must be string', varargin{i}\n",
    "        end\n",
    "    end\n",
    "    \n",
    "    %%%%%%%%%%%%%%%%%%%%%\n",
    "        "
   ]
  },
  {
   "cell_type": "markdown",
   "id": "f20b118e-6eee-4174-935d-c54a46031046",
   "metadata": {},
   "source": [
    "As you can see, this takes up a lot of code. It is also computationaly inefficient. Fortunately, MATLAB has an additional option that we can use. It is called `arguments end`. This allows us to validate inputs to ensure that match with the function requirements. Let's take a look at the previous code converted to an `arguments end` method."
   ]
  },
  {
   "cell_type": "code",
   "execution_count": null,
   "id": "6e143278-a0cc-4abe-b461-f0fd6d2a31dd",
   "metadata": {},
   "outputs": [],
   "source": [
    "function funWithSVD(pic, features, options)\n",
    "% FUNWITHSVD demonstrating how different features change image\n",
    "% pic -- image you wish to analyze\n",
    "% features -- (double) number of features to include in analyzed image (e.g., 1:4)\n",
    "\n",
    "% Optional\n",
    "    % 'originalPic' -- ('yes' | 'no') display original picture after SVD. Default 'no'.\n",
    "    % 'newPic' -- ('yes' | 'no') Display new pic. Default 'yes'.\n",
    "    \n",
    "% checks arguments\n",
    "    arguments\n",
    "        pic (1, 1) string % checks pic\n",
    "        features (1, :) double {mustBeNumeric} % checks features\n",
    "        options.originalPic string = 'no' % manages optional args\n",
    "        options.newPic string = 'yes' % manages optional args\n",
    "    end"
   ]
  },
  {
   "cell_type": "markdown",
   "id": "701661c3-8f78-4916-88cb-0466c0c19538",
   "metadata": {},
   "source": [
    "As you can tell. The above code is much shorter than that of the previous iteration of `funWithSVD()`. Let's dive deeper into `arguments end`."
   ]
  },
  {
   "cell_type": "markdown",
   "id": "2688b09c-bf05-4875-9aea-2df29a36d866",
   "metadata": {},
   "source": [
    "### Structure of `arguments end`\n",
    "\n"
   ]
  }
 ],
 "metadata": {
  "kernelspec": {
   "display_name": "MATLAB Kernel",
   "language": "matlab",
   "name": "jupyter_matlab_kernel"
  },
  "language_info": {
   "file_extension": ".m",
   "mimetype": "text/x-matlab",
   "name": "matlab"
  }
 },
 "nbformat": 4,
 "nbformat_minor": 5
}
