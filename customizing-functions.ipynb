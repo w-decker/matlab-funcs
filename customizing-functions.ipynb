{
 "cells": [
  {
   "cell_type": "markdown",
   "id": "6c01ed2b-5fa6-4ead-be1d-e4c910ad0cb6",
   "metadata": {},
   "source": [
    "# Customizing MATLAB Functions\n",
    "\n",
    "Here we will look into customizing functions to perform more specific computations by continuing to build upon `mySum()`. "
   ]
  },
  {
   "cell_type": "markdown",
   "id": "355ddef8",
   "metadata": {},
   "source": [
    "### Why should we customize `mySum()`?\n",
    "\n",
    "Previously, we created a function that calculated the sum of two inputs.\n",
    "```\n",
    "function ans = mySum(a, b)\n",
    "\n",
    "ans = a + b\n",
    "sprintf('%g + %g = %g', a, b, ans)\n",
    "\n",
    "end\n",
    "```\n",
    "But, this function is limited in multiple ways. Currently, it can _only_ take two inputs. What if we want more than two? What if we want to visually demonstrate the addition of negative numbers? We cannot do this with the current function. Therefore, we need to add additional elements to further customize the function. \n",
    "\n",
    "Let's take a look at what I mean."
   ]
  },
  {
   "cell_type": "markdown",
   "id": "f652a3bc",
   "metadata": {},
   "source": [
    "### Summing more than two numbers with `mySum()`\n",
    "\n",
    "There are a few additional components to building functions that are not required in the initial function creation, but will most likely be needed when implementing more complex functions. They are listed below.\n",
    "\n",
    "1. `varargin` This allows for multiple _optional_ input arguments. \n",
    "2. `nargin` This returns the numbers of optional input arguments given by the user. \n",
    "3. `switch case` Allows you to execute one of several statements given a conditional. \n",
    "\n",
    "Let's try some of these out. "
   ]
  },
  {
   "cell_type": "code",
   "execution_count": null,
   "id": "a8accd4b-84ed-4eaa-b6af-375e22c635f3",
   "metadata": {
    "tags": [],
    "vscode": {
     "languageId": "lua"
    }
   },
   "outputs": [],
   "source": [
    "function ans = mySum(a, varargin)\n",
    "\n",
    "if nargin == 1\n",
    "    ans = a + a;\n",
    "    sprintf('%g + %g = %g', a, a, ans)\n",
    "elseif nargin > 1\n",
    "    ans = a;\n",
    "    for i = 1:length(varargin)\n",
    "        ans = ans + varargin{i}\n",
    "    end\n",
    "    sprintf('Your sum is %g', ans)\n",
    "end\n",
    "end"
   ]
  },
  {
   "cell_type": "markdown",
   "id": "7a580cf8",
   "metadata": {},
   "source": [
    "Here, we have made use of `varargin` and `nargin` to allow us to add more than just two numbers. Let's break this code down.\n",
    "\n",
    "First we begin by creating our function using the required syntax, but it's changed from the previous iteration. It now looks like this : `function ans = mySum(a, varargin)`. By including `varargin`, we can now allow for more than two arguments. I have also changed the input parameters by only including one required argument, `a`. I will explain that below. \n",
    "\n",
    "Next, we have an `if/elseif` statement. The first `if` looks at the total number of inputs and checks if there is onnly 1 input given. If there is, then sum that input to itself. This is much neater than `mySum(2, 2)` which we would have done in the previous iteration of `mySum()`. The `elseif` checks if there is more than one input given. It then adds all of the remaining inputs to `a`.\n",
    "\n",
    "This new version of `mySum()` will allow you to execute the function with many parameters and allows for more complex applications.\n",
    "\n",
    "But how can we take this further? Let's check out the `switch case` method to find the sum of the absolute values of inputs. \n"
   ]
  },
  {
   "cell_type": "code",
   "execution_count": null,
   "id": "4f0a4a6a-b31c-4e73-8bff-ee55054809e8",
   "metadata": {},
   "outputs": [],
   "source": [
    "function ans = mySum(a, varargin)\n",
    "if nargin == 1\n",
    "    ans = a + a;\n",
    "    sprintf('%g + %g = %g', a, a, ans)\n",
    "elseif nargin == 1 && strcmp(varargin{end}, 'abs')\n",
    "    switch sign(a)\n",
    "        case -1\n",
    "            a = a*(-1);\n",
    "        otherwise\n",
    "            a = a;\n",
    "    end\n",
    "    ans = a + a;\n",
    "    sprintf('%g + %g = %g', a, a, ans)\n",
    "elseif nargin > 1 && ~strcmp(varargin{end}, 'abs')\n",
    "    ans = a;\n",
    "    for i = 1:length(varargin)\n",
    "        ans = ans + varargin{i};\n",
    "    end\n",
    "    sprintf('Your sum is %g', ans)\n",
    "elseif nargin >= 1 && strcmp(varargin{end}, 'abs')\n",
    "    switch sign(a)\n",
    "        case -1\n",
    "            a = a*(-1);\n",
    "        otherwise \n",
    "            a = a;\n",
    "    end\n",
    "    nvar = length(varargin) - 1;\n",
    "    for i = 1:nvar\n",
    "        switch sign(varargin{i})\n",
    "            case -1\n",
    "               varargin{i} = varargin{i}*(-1);\n",
    "            otherwise\n",
    "               varargin{i} = varargin{i};\n",
    "        end\n",
    "    end\n",
    "    ans = a;\n",
    "    for i = 1:nvar\n",
    "        ans = a + varargin{i};\n",
    "    end\n",
    "    sprintf('Your sum is %g', ans)\n",
    "end\n",
    "end"
   ]
  },
  {
   "cell_type": "markdown",
   "id": "b99f3988-107d-4d32-bd69-7502532bd85a",
   "metadata": {},
   "source": [
    "This may seem like a lot. And to be fair, it is. But let's break it down.\n",
    "\n",
    "Just like the previous two iterations, we create our function with `function ans = mySum(a, varargin)`.\n",
    "\n",
    "Next we have a giant `if/elseif` block. Let's break this down into smaller components. First we have\n",
    "```\n",
    "if nargin == 1\n",
    "    ans = a + a;\n",
    "    sprintf('%g + %g = %g', a, a, ans)\n",
    "```\n",
    "This checks if there was only one input given. If so, it will sum it to itself. \n",
    "\n",
    "Second we have\n",
    "```\n",
    "elseif nargin == 1 && strcmp(varargin{end}, 'abs')\n",
    "    switch sign(a)\n",
    "        case -1\n",
    "            a = a*(-1);\n",
    "        otherwise\n",
    "            a = a;\n",
    "    end\n",
    "    ans = a + a;\n",
    "    sprintf('%g + %g = %g', a, a, ans)\n",
    "```\n",
    "This checks if there is only one input given and whether or not you want to find the absolute value of that input. When calling the function we want to add the string/char `'abs'` to the end of the function inputs if we wish to find the sum of the absolute values of our input , which would look like this: `mySum(-6, 'abs')`. Then we begin `switch`. Here we say that the sign (either positive or negative) of `a` is our \"switch expression\". We take this expression and test it agains each case. If it satisifes the case, it executes the code belonging to that case. I have included `otherwise` to tell the function, \"if `a` is not negative, then keep it that way.\" This is essentially how `switch case` logic works. This is repeated if there is more than one input, like `mySum(1, 2, -12, 'abs')`. \n",
    "\n",
    "`switch case` is probably not the most effective method in this particular case, but it has it's uses. If you are working a lot with string/char input arguments, then `switch case` is the method you are going to use, as you do not need to ensure that user input arguments into a function in a specific order. \n",
    "\n",
    "\n",
    "Note: MATLAB already has an absolute value function `abs()` but for the purposes of understanding, I have neglected to use this function. However, if you are feeling adventurous, try changing `mySum()` to make use of MATLAB's `abs()` function.  \n"
   ]
  }
 ],
 "metadata": {
  "kernelspec": {
   "display_name": "MATLAB Kernel",
   "language": "matlab",
   "name": "jupyter_matlab_kernel"
  },
  "language_info": {
   "file_extension": ".m",
   "mimetype": "text/x-matlab",
   "name": "matlab"
  }
 },
 "nbformat": 4,
 "nbformat_minor": 5
}
