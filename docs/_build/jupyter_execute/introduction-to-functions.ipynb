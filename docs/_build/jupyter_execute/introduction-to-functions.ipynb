{
 "cells": [
  {
   "cell_type": "markdown",
   "id": "6c01ed2b-5fa6-4ead-be1d-e4c910ad0cb6",
   "metadata": {},
   "source": [
    "# Introduction to Functions in MATLAB\n",
    "\n",
    "Here we will take a look at what a function is and the basic components that make up a function. "
   ]
  },
  {
   "cell_type": "markdown",
   "id": "a2361507-9234-4252-bf9c-8c438011a2dc",
   "metadata": {},
   "source": [
    "### What is a function?\n",
    "\n",
    "A function is a block of code concatenated into a single line. Custom functions, which I will be teaching here, are especially helpful if you plan on executing lots of repeated code. `mean()` and `heatmap()` are both functions, for example. When you execute a function, you are \"calling\" it and executing the code embedded within it.\n",
    "\n",
    "Let's see how this works."
   ]
  },
  {
   "cell_type": "code",
   "execution_count": 1,
   "id": "704890fa-591c-48ce-a568-f0bafe07a669",
   "metadata": {
    "tags": []
   },
   "outputs": [
    {
     "name": "stderr",
     "output_type": "stream",
     "text": [
      "\n",
      "            Error: MATLAB Kernel for Jupyter was unable to find the notebook server from which it was spawned!\n",
      "\n",
      "            Resolution: Please relaunch kernel from JupyterLab or Classic Jupyter Notebook.\n",
      "            "
     ]
    }
   ],
   "source": [
    "X = [1, 2, 3, 4, 5, 6, 7]\n",
    "ans = mean(X)\n",
    "sprintf('The mean of X is %g'., ans)"
   ]
  },
  {
   "cell_type": "markdown",
   "id": "cd252a02-5fd0-461e-a841-5e34ed162221",
   "metadata": {},
   "source": [
    "In the above cell, you simply typed `mean(...)` and MATLAB was able to calculate the mean of your desired input. As stated earlier, there is code embedded within this function that is computed when `mean()` is called. But what is the code for `mean()`? In MATLAB, type `open mean`. This will open the **mean.m** file where the code to calculate the mean of a given input is located. Scroll through the file. It's relatively large ($\\approx$ 270 lines of code)!"
   ]
  },
  {
   "cell_type": "markdown",
   "id": "0d0df6be-7543-4033-9ab0-bbfdf73a0303",
   "metadata": {},
   "source": [
    "### What is the structure of a function?\n",
    "\n",
    "In MATLAB, to build a function requires a few syntactical components, some of which differ from other programming languages. The basic formula is this:\n",
    "```\n",
    "function [output] = myFunction(input)\n",
    "\n",
    "... % where your code will go\n",
    "\n",
    "end\n",
    "```\n",
    "\n",
    "Let's build our own function to calculate the sum of two numbers."
   ]
  },
  {
   "cell_type": "code",
   "execution_count": 2,
   "id": "7d407161-2e42-46c1-b5e7-79aa15576099",
   "metadata": {
    "tags": []
   },
   "outputs": [
    {
     "name": "stderr",
     "output_type": "stream",
     "text": [
      "\n",
      "            Error: MATLAB Kernel for Jupyter was unable to find the notebook server from which it was spawned!\n",
      "\n",
      "            Resolution: Please relaunch kernel from JupyterLab or Classic Jupyter Notebook.\n",
      "            "
     ]
    }
   ],
   "source": [
    "function ans = mySum(a, b)\n",
    "\n",
    "ans = a + b\n",
    "sprintf('%g + %g = %g', a, b, ans)\n",
    "\n",
    "end"
   ]
  },
  {
   "cell_type": "markdown",
   "id": "12b737e4-addf-4dc1-960d-a93f45677704",
   "metadata": {},
   "source": [
    "Here, we have created a function, called `mySum()` that summates two numbers and outputs this answer. `a` and `b` are the two inputs that we wish to manipulate. `ans` is the calculated sum of our two inputs. \n",
    "\n",
    "### Futher details about building functions. \n",
    "\n",
    "There are a few important practices to be aware of when making functions.\n",
    "\n",
    "1. Typically, functions are created in seperate MATLAB files. You can create a function script by clicking New >> Function. This opens a template for your function which looks something like this:\n",
    "```\n",
    "function [outputArg1,outputArg2] = untitled4(inputArg1,inputArg2)\n",
    "%UNTITLED4 Summary of this function goes here\n",
    "%   Detailed explanation goes here\n",
    "outputArg1 = inputArg1;\n",
    "outputArg2 = inputArg2;\n",
    "end\n",
    "```\n",
    "\n",
    "2. If you are creating a function _locally_, meaning within your script and not in a separate file, then the function or functions must be created at the **end** of the script. It is alright if you call the functions earlier--this is just a rule in MATLAB. If you create your function and then attempt to call it after you have created it, you will receive this error:\n",
    "\n",
    "```\n",
    "Function definitions in a script must appear at the end of the file.\n",
    "Move all statements after the \"mySum\" function definition to before the first local function\n",
    "definition.\n",
    "```\n",
    "\n",
    "3. Functions _should_ contain a docstring or an explanation of the function's implementation. \n",
    "\n",
    "Let's take a look at some of these key points."
   ]
  },
  {
   "cell_type": "code",
   "execution_count": 3,
   "id": "a8accd4b-84ed-4eaa-b6af-375e22c635f3",
   "metadata": {
    "tags": []
   },
   "outputs": [
    {
     "name": "stderr",
     "output_type": "stream",
     "text": [
      "\n",
      "            Error: MATLAB Kernel for Jupyter was unable to find the notebook server from which it was spawned!\n",
      "\n",
      "            Resolution: Please relaunch kernel from JupyterLab or Classic Jupyter Notebook.\n",
      "            "
     ]
    }
   ],
   "source": [
    "% call function\n",
    "mySum(2, 3)\n",
    "\n",
    "function ans = mySum(a, b)\n",
    "%MYSUM Summates two numbers together.\n",
    "    % a (double or scalar) Can be positive or negative integer\n",
    "    % b (double or scalar) Can be positive or negative integer\n",
    "    \n",
    "% computes sum\n",
    "ans = a + b\n",
    "    \n",
    "% displays output\n",
    "sprintf('%g + %g = %g', a, b, ans)\n",
    "\n",
    "end"
   ]
  },
  {
   "cell_type": "markdown",
   "id": "52eaceae-ea81-4c6e-bcf7-8ba336e0f4ed",
   "metadata": {},
   "source": [
    "Here, I have added some documentation to the function to make it more readable. Remember, because I am creating the function locally, I must call the function before I define the function.\n",
    "\n",
    "And that's it! Functions are a very important component to programming and learning how to build and leverage their use can significantly bolster one's programming abilities and fluency. \n"
   ]
  }
 ],
 "metadata": {
  "kernelspec": {
   "display_name": "MATLAB Kernel",
   "language": "matlab",
   "name": "jupyter_matlab_kernel"
  },
  "language_info": {
   "file_extension": ".m",
   "mimetype": "text/x-matlab",
   "name": "matlab"
  }
 },
 "nbformat": 4,
 "nbformat_minor": 5
}